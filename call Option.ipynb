{
 "cells": [
  {
   "cell_type": "markdown",
   "metadata": {},
   "source": [
    "## Long call payoff\n",
    "- Let's define a function, __payoff_long_call__ with arguments sT and x for stock price at T and exercise price respectively. \n",
    "- The function will return the payoff of a long call once we call it with the value of sT and x."
   ]
  },
  {
   "cell_type": "code",
   "execution_count": 13,
   "metadata": {},
   "outputs": [],
   "source": [
    "def payoff_long_call(sT,x):\n",
    "    return max(sT-x,0)"
   ]
  },
  {
   "cell_type": "markdown",
   "metadata": {},
   "source": [
    "> Let's call the function with sT=25, and x=20:"
   ]
  },
  {
   "cell_type": "code",
   "execution_count": 152,
   "metadata": {},
   "outputs": [
    {
     "data": {
      "text/plain": [
       "5"
      ]
     },
     "execution_count": 152,
     "metadata": {},
     "output_type": "execute_result"
    }
   ],
   "source": [
    "payoff_long_call(25,20)"
   ]
  },
  {
   "cell_type": "code",
   "execution_count": 87,
   "metadata": {},
   "outputs": [
    {
     "data": {
      "text/plain": [
       "0"
      ]
     },
     "execution_count": 87,
     "metadata": {},
     "output_type": "execute_result"
    }
   ],
   "source": [
    "payoff_long_call(15,20)"
   ]
  },
  {
   "cell_type": "markdown",
   "metadata": {},
   "source": [
    "## Short call payoff\n",
    "- Let's now define a function similar way for the short call __payoff_short_call__ :"
   ]
  },
  {
   "cell_type": "code",
   "execution_count": 161,
   "metadata": {},
   "outputs": [],
   "source": [
    "def payoff_short_call(sT,x):\n",
    "    return -max(sT-x,0)"
   ]
  },
  {
   "cell_type": "code",
   "execution_count": 162,
   "metadata": {},
   "outputs": [
    {
     "data": {
      "text/plain": [
       "-5"
      ]
     },
     "execution_count": 162,
     "metadata": {},
     "output_type": "execute_result"
    }
   ],
   "source": [
    "payoff_short_call(25,20)"
   ]
  },
  {
   "cell_type": "code",
   "execution_count": 163,
   "metadata": {},
   "outputs": [
    {
     "data": {
      "text/plain": [
       "0"
      ]
     },
     "execution_count": 163,
     "metadata": {},
     "output_type": "execute_result"
    }
   ],
   "source": [
    "payoff_short_call(15,20)"
   ]
  },
  {
   "cell_type": "markdown",
   "metadata": {},
   "source": [
    "> What if we want to calculate the the payoff of a range of sT? In that case we have load a package __numpy__. Then we call the sT value starting from 10 to 40 with an increment of 5:"
   ]
  },
  {
   "cell_type": "code",
   "execution_count": 21,
   "metadata": {},
   "outputs": [
    {
     "data": {
      "text/plain": [
       "array([10, 15, 20, 25, 30, 35])"
      ]
     },
     "execution_count": 21,
     "metadata": {},
     "output_type": "execute_result"
    }
   ],
   "source": [
    "import numpy as np\n",
    "sT=np.arange(10,40,5)\n",
    "sT"
   ]
  },
  {
   "cell_type": "markdown",
   "metadata": {},
   "source": [
    "> Now we define the function __payoff_long_call__ in a different way: __(sT-x+abs(sT-x))/2__ ensures that payoff is never negative. If sT-x=-5, the abs(sT-x) would be +5. Adding -5 with +5 results in 0. And also, 0/2 = 0. "
   ]
  },
  {
   "cell_type": "code",
   "execution_count": 24,
   "metadata": {},
   "outputs": [
    {
     "data": {
      "text/plain": [
       "array([ 0.,  0.,  0.,  5., 10., 15.])"
      ]
     },
     "execution_count": 24,
     "metadata": {},
     "output_type": "execute_result"
    }
   ],
   "source": [
    "def payoff_long_call(sT,x):\n",
    "    return (sT-x+abs(sT-x))/2\n",
    "x=20\n",
    "payoff_long_call(sT,x)"
   ]
  },
  {
   "cell_type": "markdown",
   "metadata": {},
   "source": [
    "> Let's now calculate and plot the payoffs:  "
   ]
  },
  {
   "cell_type": "code",
   "execution_count": 26,
   "metadata": {
    "scrolled": true
   },
   "outputs": [
    {
     "data": {
      "image/png": "[encoded data removed]",
      "text/plain": [
       "<matplotlib.figure.Figure at 0x29f3e2d4f98>"
      ]
     },
     "metadata": {
      "needs_background": "light"
     },
     "output_type": "display_data"
    }
   ],
   "source": [
    "import numpy as np\n",
    "import matplotlib.pyplot as plt\n",
    "x=20\n",
    "s=np.arange(10,40,5)\n",
    "y=(s-x+abs(s-x))/2\n",
    "y1=np.zeros(len(s))\n",
    "plt.ylim(-10,20)\n",
    "plt.plot(s,y)\n",
    "plt.plot(s,y1,'-.')\n",
    "plt.title(\"Payoff of a long call option with exerise price, X = 20\")\n",
    "plt.xlabel(\"Stock prices\")\n",
    "plt.ylabel(\"Payoff\")\n",
    "plt.annotate('Payoff of call option buyer', xy=(25,6), xytext=(12,14), \n",
    "             arrowprops=dict(facecolor='blue', shrink=0.1),)\n",
    "plt.show()"
   ]
  },
  {
   "cell_type": "markdown",
   "metadata": {},
   "source": [
    "## Long and short call profit/loss\n",
    "> For profit/loss of a long call position, we have to substract call premium or price from the long payoff. For short call position we have to add call premium to the short payoff. \n",
    "* Let's the price of call is 3.84 \n",
    "* Call price is paid at time zero, but the payoff is calculated at time T.\n",
    "* We can substract call premium from the payoff only if we know the future value of call premium (3.84) at time T.\n",
    "* Let's assume the call expires in one year, (T=1), and continuously compounded interest rate is 4% per annum.Then the future value of 3.84 would be 3.84 x exp(0.04x1) = 4.\n",
    "* In order to clculate the future value, we need to import another package, __math__.\n",
    "* Once we calculate the profits for a range of prices, we can plot them."
   ]
  },
  {
   "cell_type": "code",
   "execution_count": 37,
   "metadata": {},
   "outputs": [
    {
     "data": {
      "text/latex": [
       "$$profit_{l.c} max(S_T-X,0) - ce^{rT}$$"
      ],
      "text/plain": [
       "<IPython.core.display.Math object>"
      ]
     },
     "execution_count": 37,
     "metadata": {},
     "output_type": "execute_result"
    }
   ],
   "source": [
    "from IPython.display import Math\n",
    "Math(r'profit_{l.c} = max(S_T-X,0) - ce^{rT}') # Profit equation for long call"
   ]
  },
  {
   "cell_type": "code",
   "execution_count": 38,
   "metadata": {},
   "outputs": [
    {
     "data": {
      "text/latex": [
       "$$profit_{l.s} = -max(S_T-X,0) + ce^{rT}$$"
      ],
      "text/plain": [
       "<IPython.core.display.Math object>"
      ]
     },
     "execution_count": 38,
     "metadata": {},
     "output_type": "execute_result"
    }
   ],
   "source": [
    "from IPython.display import Math\n",
    "Math(r'profit_{l.s} = -max(S_T-X,0) + ce^{rT}') #profit equation for short call"
   ]
  },
  {
   "cell_type": "code",
   "execution_count": 32,
   "metadata": {},
   "outputs": [
    {
     "data": {
      "image/png": "[encoded data removed]",
      "text/plain": [
       "<matplotlib.figure.Figure at 0x29f3e4b23c8>"
      ]
     },
     "metadata": {
      "needs_background": "light"
     },
     "output_type": "display_data"
    }
   ],
   "source": [
    "import math\n",
    "import numpy as np\n",
    "import matplotlib.pyplot as plt\n",
    "x=20\n",
    "cp=3.84                 # call premium\n",
    "c=cp*math.exp(0.04)     # future value of cp in one year at 4% rate of interest with continuous compounding.\n",
    "s=np.arange(10,40,5)\n",
    "y=(s-x+abs(s-x))/2 -c\n",
    "y2=np.zeros(len(s))\n",
    "plt.ylim(-20,20)\n",
    "plt.plot(s,y)\n",
    "plt.plot(s,y2,'-.')\n",
    "plt.title(\"Profit of a long call with exerise price, X = 20\")\n",
    "plt.xlabel(\"Stock prices\")\n",
    "plt.ylabel(\"Profit\")\n",
    "plt.annotate('Profit of call option buyer', xy=(25,6), xytext=(10,12), \n",
    "             arrowprops=dict(facecolor='green', shrink=0.05),)\n",
    "plt.show()"
   ]
  },
  {
   "cell_type": "markdown",
   "metadata": {},
   "source": [
    "## Long and short call profits together\n",
    "> Lets now plot call option buyer and seller profit together:"
   ]
  },
  {
   "cell_type": "code",
   "execution_count": 33,
   "metadata": {},
   "outputs": [
    {
     "data": {
      "image/png": "[encoded data removed]",
      "text/plain": [
       "<matplotlib.figure.Figure at 0x29f3e475b38>"
      ]
     },
     "metadata": {
      "needs_background": "light"
     },
     "output_type": "display_data"
    }
   ],
   "source": [
    "import math\n",
    "import numpy as np\n",
    "import matplotlib.pyplot as plt\n",
    "x=20\n",
    "cp=3.84                 # call premium\n",
    "c=cp*math.exp(0.04)     # future value of cp in one year at 4% rate of interest with continuous compounding.\n",
    "s=np.arange(10,40,5)\n",
    "y=(s-x+abs(s-x))/2 -c\n",
    "y2=np.zeros(len(s))\n",
    "plt.ylim(-20,20)\n",
    "plt.plot(s,y)\n",
    "plt.plot(s,-y)\n",
    "plt.plot(s,y2,'-.')\n",
    "plt.title(\"Profit of long & short call with exerise price, X = 20\")\n",
    "plt.xlabel(\"Stock prices\")\n",
    "plt.ylabel(\"Profit\")\n",
    "plt.annotate('Profit of call option buyer', xy=(25,6), xytext=(10,12), \n",
    "             arrowprops=dict(facecolor='green', shrink=0.05),)\n",
    "plt.annotate('Profit of call option seller', xy=(25,-6), xytext=(10,-12), \n",
    "             arrowprops=dict(facecolor='green', shrink=0.05),)\n",
    "plt.show()"
   ]
  }
 ],
 "metadata": {
  "kernelspec": {
   "display_name": "Python 3",
   "language": "python",
   "name": "python3"
  },
  "language_info": {
   "codemirror_mode": {
    "name": "ipython",
    "version": 3
   },
   "file_extension": ".py",
   "mimetype": "text/x-python",
   "name": "python",
   "nbconvert_exporter": "python",
   "pygments_lexer": "ipython3",
   "version": "3.6.4"
  }
 },
 "nbformat": 4,
 "nbformat_minor": 2
}
